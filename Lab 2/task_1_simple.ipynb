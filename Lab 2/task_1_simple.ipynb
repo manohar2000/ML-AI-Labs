{
 "cells": [
  {
   "cell_type": "markdown",
   "metadata": {},
   "source": [
    "### Simple Linear Regression\n",
    "Linear regression is among the simplest regression methods. One of the main advantages of using it is ease of interpreting results. Simple linear regression is special case of regression where target feature is dependent on single variable, and then we find the best fitting line.<br>\n",
    "\n",
    "##### y = m*x + c <br>\n",
    "\n",
    "#### Dataset\n",
    "The dataset is available at __\"data/simple_linear_data.csv\"__ in the respective challenge's repo.<br><br>\n",
    "This is the modified version of the dataset 'Student Performance' provided by UCI Machine Learning repository.<br>\n",
    "Original dataset: https://archive.ics.uci.edu/ml/datasets/student+performance\n",
    "\n",
    "#### Features (X)\n",
    "- G2 - second year math grades (numeric: from 0 to 100)\n",
    "\n",
    "#### Target (y)\n",
    "- G3 - third year math grades (numeric: from 0 to 100, output target)\n",
    "\n",
    "#### Objective\n",
    "To gain understanding of single linear regression through implementing the model from scratch\n",
    "\n",
    "#### Tasks\n",
    "- Read the data from above mentioned dataset and define X and y as numpy array\n",
    "- Add column at position 0 with all values=1 (pandas.DataFrame.insert function)\n",
    "- Print rows from 40 to 55.\n",
    "- Print the shape and datatype of both X and y\n",
    "- Follow code cells to implement simple linear regression from scratch\n",
    "    - Write hypothesis function to predict values\n",
    "    - Write function for calculating mean_squared_error\n",
    "    - Write function to return gradients for given weights\n",
    "    - Perform gradient descent taking help of above functions\n",
    "\n",
    "#### Further Fun (will not be evaluated\n",
    "- Remove outliers, train again and see the difference in error.\n",
    "```python\n",
    "# Add this line before defining X and y\n",
    "data = data[(data['G3']!=0)|((data['G2']==0)&(data['G3']==0))]\n",
    "```\n",
    "- Replace \"*weights = np.random.rand(2)*\" line in gradient descent with below line, train again and visualize results.\n",
    "```python\n",
    "# Replace above line with following in gradient descent function\n",
    "weights = np.zeros(2,)\n",
    "```\n",
    "- Play with learning rate and max_iterations\n",
    "- Generalize the code for multivariate(multiple) linear regression\n",
    "\n",
    "#### Resources\n",
    "- Linear regression maths: https://www.youtube.com/watch?v=ZkjP5RJLQF4\n",
    "- Simple linear regression: https://www.youtube.com/watch?v=iAgYLRy7e20\n",
    "- Tutorial: https://machinelearningmastery.com/implement-simple-linear-regression-scratch-python\n"
   ]
  },
  {
   "cell_type": "code",
   "execution_count": 1,
   "metadata": {},
   "outputs": [],
   "source": [
    "import numpy as np\n",
    "import matplotlib.pyplot as plt\n",
    "import pandas as pd"
   ]
  },
  {
   "cell_type": "code",
   "execution_count": 2,
   "metadata": {},
   "outputs": [],
   "source": [
    "# Read the data from provided dir\n",
    "data = pd.read_csv(\"data/simple_linear_data.csv\")"
   ]
  },
  {
   "cell_type": "code",
   "execution_count": 3,
   "metadata": {},
   "outputs": [],
   "source": [
    "# Add column which has all 1s\n",
    "# The idea is that weight corresponding to this column is equal to intercept\n",
    "# This way it is efficient and easier to handle the bias/intercept term\n",
    "data.insert(0,\"b\",1)"
   ]
  },
  {
   "cell_type": "code",
   "execution_count": 4,
   "metadata": {},
   "outputs": [
    {
     "data": {
      "text/html": [
       "<div>\n",
       "<style scoped>\n",
       "    .dataframe tbody tr th:only-of-type {\n",
       "        vertical-align: middle;\n",
       "    }\n",
       "\n",
       "    .dataframe tbody tr th {\n",
       "        vertical-align: top;\n",
       "    }\n",
       "\n",
       "    .dataframe thead th {\n",
       "        text-align: right;\n",
       "    }\n",
       "</style>\n",
       "<table border=\"1\" class=\"dataframe\">\n",
       "  <thead>\n",
       "    <tr style=\"text-align: right;\">\n",
       "      <th></th>\n",
       "      <th>b</th>\n",
       "      <th>G2</th>\n",
       "      <th>G3</th>\n",
       "    </tr>\n",
       "  </thead>\n",
       "  <tbody>\n",
       "    <tr>\n",
       "      <td>0</td>\n",
       "      <td>1</td>\n",
       "      <td>30</td>\n",
       "      <td>30</td>\n",
       "    </tr>\n",
       "    <tr>\n",
       "      <td>1</td>\n",
       "      <td>1</td>\n",
       "      <td>25</td>\n",
       "      <td>30</td>\n",
       "    </tr>\n",
       "    <tr>\n",
       "      <td>2</td>\n",
       "      <td>1</td>\n",
       "      <td>40</td>\n",
       "      <td>50</td>\n",
       "    </tr>\n",
       "    <tr>\n",
       "      <td>3</td>\n",
       "      <td>1</td>\n",
       "      <td>70</td>\n",
       "      <td>75</td>\n",
       "    </tr>\n",
       "    <tr>\n",
       "      <td>4</td>\n",
       "      <td>1</td>\n",
       "      <td>50</td>\n",
       "      <td>50</td>\n",
       "    </tr>\n",
       "  </tbody>\n",
       "</table>\n",
       "</div>"
      ],
      "text/plain": [
       "   b  G2  G3\n",
       "0  1  30  30\n",
       "1  1  25  30\n",
       "2  1  40  50\n",
       "3  1  70  75\n",
       "4  1  50  50"
      ]
     },
     "execution_count": 4,
     "metadata": {},
     "output_type": "execute_result"
    }
   ],
   "source": [
    "# Print the dataframe rows\n",
    "data.head()"
   ]
  },
  {
   "cell_type": "code",
   "execution_count": 5,
   "metadata": {},
   "outputs": [],
   "source": [
    "# Define X (input features) and y (output feature) \n",
    "X = np.array(data.drop(['G3'],axis=1))\n",
    "y = np.array(data.G3)"
   ]
  },
  {
   "cell_type": "code",
   "execution_count": 6,
   "metadata": {},
   "outputs": [
    {
     "data": {
      "text/plain": [
       "array([30, 25, 40, 70, 50, 75, 60, 25, 90, 75, 40, 60, 70, 50, 80, 70, 70,\n",
       "       50, 25, 50, 70, 75, 75, 65, 45, 45, 60, 80, 55, 60, 55, 80, 80, 50,\n",
       "       70, 35, 80, 80, 60, 65, 50, 60, 90, 40, 50, 40, 60, 95, 75, 35, 65,\n",
       "       65, 55, 50, 65, 45, 75, 75, 50, 80, 55, 40, 50, 45, 50, 75, 65, 35,\n",
       "       45, 80, 75, 50, 30, 60, 60, 45, 55, 55, 40, 25, 60, 50, 30, 75, 50,\n",
       "       45, 35, 70, 50, 30, 35, 85, 30, 50, 65, 50, 75, 45, 70, 45, 35, 85,\n",
       "       65, 30, 90, 55, 40, 90, 65, 75, 95, 50, 65, 95, 45, 75, 65, 70, 35,\n",
       "       65, 75, 70, 65, 55, 35, 65, 50, 40, 20, 90,  0,  0, 65, 55,  0,  0,\n",
       "        0,  0, 60, 80, 45, 45, 55, 70,  0, 55, 35, 55, 30, 45, 25, 65, 50,\n",
       "        0, 55, 40, 60, 40, 75, 60, 30, 45,  0, 50, 40, 55, 50, 75, 35, 70,\n",
       "       25, 75, 55, 35, 55, 45, 65, 25, 40, 50, 40, 65, 85, 45, 65, 60, 60,\n",
       "       75, 35, 45, 60, 40, 40, 45, 70, 75, 75, 45, 90, 45, 80, 50, 45, 30,\n",
       "       50, 45, 35, 60, 45, 35, 40, 60, 65, 35, 50, 75, 30, 30, 35, 50, 30,\n",
       "       25, 80, 65, 65, 40, 75, 55, 40, 50, 65, 55, 45, 65, 35, 45, 65, 60,\n",
       "       55, 35, 60, 55,  0, 60,  0, 90, 60, 40, 25, 75, 40, 50, 45, 45, 60,\n",
       "       45, 60, 55, 70, 45, 90, 40, 60, 45, 50, 85, 45, 50, 45,  0, 45, 70,\n",
       "       55, 70, 50, 60, 45, 45, 40, 55, 40, 45, 60, 45, 45, 50, 90, 60, 70,\n",
       "       65, 55, 75, 60, 90, 65, 60, 45, 40, 65, 75, 50, 55, 60, 85, 70, 60,\n",
       "       90, 45, 60, 50, 45, 60, 55, 50, 65, 55, 40, 50, 55, 55, 65, 45, 55,\n",
       "       70, 75, 60, 75, 50, 45, 70, 40, 70,  0, 40, 45, 75, 65, 40, 75, 50,\n",
       "       60, 50, 75, 40, 50, 65, 75, 50, 75, 65, 35, 65, 35, 40, 55, 45, 65,\n",
       "       60, 50, 80, 65, 60, 55, 75, 55, 50, 65, 30, 50, 60, 35, 60, 55, 25,\n",
       "       90, 40, 70, 45, 75, 50, 70, 30, 55, 25, 25, 45, 25, 25, 45, 25, 45,\n",
       "       80, 40, 60, 45], dtype=int64)"
      ]
     },
     "execution_count": 6,
     "metadata": {},
     "output_type": "execute_result"
    }
   ],
   "source": [
    "X[:, 1]"
   ]
  },
  {
   "cell_type": "code",
   "execution_count": 7,
   "metadata": {},
   "outputs": [
    {
     "name": "stdout",
     "output_type": "stream",
     "text": [
      "X: Type-<class 'numpy.ndarray'>, Shape-(395, 2)\n",
      "y: Type-<class 'numpy.ndarray'>, Shape-(395,)\n"
     ]
    }
   ],
   "source": [
    "X_shape = X.shape\n",
    "X_type  = type(X)\n",
    "y_shape = y.shape\n",
    "y_type  = type(y)\n",
    "print(f'X: Type-{X_type}, Shape-{X_shape}')\n",
    "print(f'y: Type-{y_type}, Shape-{y_shape}')"
   ]
  },
  {
   "cell_type": "markdown",
   "metadata": {},
   "source": [
    "__Expected output__:<br><br>\n",
    "X: Type-<class 'numpy.ndarray'>, Shape-(395,2)<br>\n",
    "y: Type-<class 'numpy.ndarray'>, Shape-(395,)"
   ]
  },
  {
   "cell_type": "markdown",
   "metadata": {},
   "source": [
    "Let us visualize the relationship between X and y"
   ]
  },
  {
   "cell_type": "code",
   "execution_count": 8,
   "metadata": {},
   "outputs": [
    {
     "data": {
      "image/png": "[encoded data removed]",
      "text/plain": [
       "<Figure size 432x288 with 1 Axes>"
      ]
     },
     "metadata": {
      "needs_background": "light"
     },
     "output_type": "display_data"
    }
   ],
   "source": [
    "# DO NOT EDIT THIS CODE CELL\n",
    "plt.scatter(X[:,1],y)\n",
    "plt.title('Relation between second year grades and third year grades')\n",
    "plt.xlabel('G2 (X - Second year grades)')\n",
    "plt.ylabel('G3 (Y - Third year grades)')\n",
    "plt.show()"
   ]
  },
  {
   "cell_type": "markdown",
   "metadata": {},
   "source": [
    "##### Let us start implementing linear regression from scratch. Just follow code cells, see hints if required."
   ]
  },
  {
   "cell_type": "code",
   "execution_count": 10,
   "metadata": {},
   "outputs": [],
   "source": [
    "def predict(X, weights):\n",
    "    '''\n",
    "    weights   : array (2,1) w0 and w1\n",
    "    X         : array (m,2) x0 (intercept=1) and x1\n",
    "    \n",
    "    Returns predicted y using hyothesis linear function defined by given weights\n",
    "    '''\n",
    "    ### START CODE HERE ###\n",
    "    y_pred = np.dot(X,weights)\n",
    "    ### END CODE HERE ###\n",
    "    \n",
    "    assert (y_pred.shape==(X.shape[0],1)), 'Wrong implementation of predict function. Check carefully'\n",
    "    \n",
    "    return y_pred"
   ]
  },
  {
   "cell_type": "code",
   "execution_count": 11,
   "metadata": {},
   "outputs": [],
   "source": [
    "def mean_squared_error(y_true, y_pred) : \n",
    "    '''\n",
    "    y_true : (m,1)\n",
    "    y_pred : (m,1)\n",
    "    \n",
    "    Return the mean squared error\n",
    "    '''\n",
    "    ### START CODE HERE ###\n",
    "    loss = (1 / (2 * y_true.shape[0])) * np.sum((y_true - y_pred) ** 2)\n",
    "    ### END CODE HERE ###\n",
    "    \n",
    "    return loss"
   ]
  },
  {
   "cell_type": "code",
   "execution_count": 12,
   "metadata": {},
   "outputs": [],
   "source": [
    "def gradient(X, y_true, y_pred):\n",
    "    '''\n",
    "    X      : array (m,2)\n",
    "    y_true : array (m,1)\n",
    "    y_pred : array (m,1)\n",
    "    \n",
    "    Returns a numpy array with gradients. Shape (2,1)\n",
    "    '''\n",
    "    # Initialize the gradient vector for w0 (intercept/bias) and w1 respectively\n",
    "    grad = np.zeros((2,1))\n",
    "    \n",
    "    ### START CODE HERE ###\n",
    "    \n",
    "    grad[0][0] = (2 / X.shape[0]) * np.sum(np.dot(X[:, 0], (y_pred - y_true)))\n",
    "    grad[1][0] = (2 / X.shape[0]) * np.sum(np.dot(X[:, 1], (y_pred - y_true)))\n",
    "    \n",
    "    ### END CODE HERE ###\n",
    "    \n",
    "    return grad"
   ]
  },
  {
   "cell_type": "code",
   "execution_count": 18,
   "metadata": {},
   "outputs": [],
   "source": [
    "def gradient_descent(X, y, learning_rate=0.0001, max_iterations=100):\n",
    "    '''\n",
    "    X              : Array (m,2)\n",
    "    y              : Array (m,1)\n",
    "    learning_rate  : Learning rate\n",
    "    max_iterations : Maximum iteratons\n",
    "    \n",
    "    Returns : weights vector (2,1)\n",
    "            : losses (List)\n",
    "    '''\n",
    "    # Initialise weights vector of random values of size (2,1)\n",
    "    weights = np.random.rand(2,1)\n",
    "    # Initialize a list to record all the losses \n",
    "    losses  = []\n",
    "    y_true = y.reshape(-1, 1)\n",
    "    \n",
    "    \n",
    "    \n",
    "    ### START CODE HERE ###\n",
    "    for i in range(max_iterations):\n",
    "\n",
    "        y_pred = predict(X, weights)\n",
    "\n",
    "        losses.append(mean_squared_error(y_true, y_pred))\n",
    "        \n",
    "\n",
    "        grad = gradient(X, y_true, y_pred)\n",
    "        \n",
    "        print(grad)\n",
    "        \n",
    "        #update the weights [core of gradient descent]\n",
    "        weights[0][0] = weights[0][0] - learning_rate * grad[0][0]\n",
    "        weights[1][0] = weights[1][0] - learning_rate * grad[1][0]  \n",
    "        \n",
    "        \n",
    "    \n",
    "    ### END CODE HERE ###\n",
    "    \n",
    "    return weights, losses"
   ]
  },
  {
   "cell_type": "markdown",
   "metadata": {},
   "source": [
    "##### Congratulations! You have implemented linear regression from scratch. Let's see this in action."
   ]
  },
  {
   "cell_type": "code",
   "execution_count": 19,
   "metadata": {},
   "outputs": [
    {
     "name": "stdout",
     "output_type": "stream",
     "text": [
      "[[  -96.57680604]\n",
      " [-5907.56768231]]\n",
      "[[  -33.26425921]\n",
      " [-2099.06820483]]\n",
      "[[ -10.76834903]\n",
      " [-745.84907083]]\n",
      "[[  -2.77522506]\n",
      " [-265.02925284]]\n",
      "[[ 6.48332680e-02]\n",
      " [-9.41864884e+01]]\n",
      "[[  1.07392718]\n",
      " [-33.48339514]]\n",
      "[[  1.43245095]\n",
      " [-11.91464103]]\n",
      "[[ 1.55981702]\n",
      " [-4.25092665]]\n",
      "[[ 1.60504916]\n",
      " [-1.52788928]]\n",
      "[[ 1.62109784]\n",
      " [-0.56035134]]\n",
      "[[ 1.62677718]\n",
      " [-0.21656968]]\n",
      "[[ 1.62877214]\n",
      " [-0.09441832]]\n",
      "[[ 1.62945798]\n",
      " [-0.05101565]]\n",
      "[[ 1.62967866]\n",
      " [-0.03559363]]\n",
      "[[ 1.62973407]\n",
      " [-0.03011356]]\n",
      "[[ 1.62973076]\n",
      " [-0.02816603]]\n",
      "[[ 1.62970658]\n",
      " [-0.02747366]]\n",
      "[[ 1.62967499]\n",
      " [-0.02722726]]\n",
      "[[ 1.62964077]\n",
      " [-0.02713933]]\n",
      "[[ 1.62960561]\n",
      " [-0.02710771]]\n",
      "[[ 1.62957012]\n",
      " [-0.02709609]]\n",
      "[[ 1.62953451]\n",
      " [-0.02709158]]\n",
      "[[ 1.62949886]\n",
      " [-0.02708959]]\n",
      "[[ 1.6294632 ]\n",
      " [-0.02708851]]\n",
      "[[ 1.62942753]\n",
      " [-0.02708774]]\n",
      "[[ 1.62939186]\n",
      " [-0.02708708]]\n",
      "[[ 1.62935619]\n",
      " [-0.02708647]]\n",
      "[[ 1.62932052]\n",
      " [-0.02708587]]\n",
      "[[ 1.62928485]\n",
      " [-0.02708527]]\n",
      "[[ 1.62924919]\n",
      " [-0.02708468]]\n",
      "[[ 1.62921352]\n",
      " [-0.02708408]]\n",
      "[[ 1.62917785]\n",
      " [-0.02708349]]\n",
      "[[ 1.62914219]\n",
      " [-0.0270829 ]]\n",
      "[[ 1.62910652]\n",
      " [-0.0270823 ]]\n",
      "[[ 1.62907086]\n",
      " [-0.02708171]]\n",
      "[[ 1.6290352 ]\n",
      " [-0.02708112]]\n",
      "[[ 1.62899953]\n",
      " [-0.02708053]]\n",
      "[[ 1.62896387]\n",
      " [-0.02707993]]\n",
      "[[ 1.62892821]\n",
      " [-0.02707934]]\n",
      "[[ 1.62889255]\n",
      " [-0.02707875]]\n",
      "[[ 1.62885689]\n",
      " [-0.02707815]]\n",
      "[[ 1.62882124]\n",
      " [-0.02707756]]\n",
      "[[ 1.62878558]\n",
      " [-0.02707697]]\n",
      "[[ 1.62874992]\n",
      " [-0.02707638]]\n",
      "[[ 1.62871427]\n",
      " [-0.02707578]]\n",
      "[[ 1.62867861]\n",
      " [-0.02707519]]\n",
      "[[ 1.62864296]\n",
      " [-0.0270746 ]]\n",
      "[[ 1.6286073 ]\n",
      " [-0.02707401]]\n",
      "[[ 1.62857165]\n",
      " [-0.02707341]]\n",
      "[[ 1.628536  ]\n",
      " [-0.02707282]]\n",
      "[[ 1.62850035]\n",
      " [-0.02707223]]\n",
      "[[ 1.6284647 ]\n",
      " [-0.02707163]]\n",
      "[[ 1.62842905]\n",
      " [-0.02707104]]\n",
      "[[ 1.6283934 ]\n",
      " [-0.02707045]]\n",
      "[[ 1.62835775]\n",
      " [-0.02706986]]\n",
      "[[ 1.62832211]\n",
      " [-0.02706926]]\n",
      "[[ 1.62828646]\n",
      " [-0.02706867]]\n",
      "[[ 1.62825081]\n",
      " [-0.02706808]]\n",
      "[[ 1.62821517]\n",
      " [-0.02706749]]\n",
      "[[ 1.62817952]\n",
      " [-0.02706689]]\n",
      "[[ 1.62814388]\n",
      " [-0.0270663 ]]\n",
      "[[ 1.62810824]\n",
      " [-0.02706571]]\n",
      "[[ 1.6280726 ]\n",
      " [-0.02706512]]\n",
      "[[ 1.62803696]\n",
      " [-0.02706452]]\n",
      "[[ 1.62800132]\n",
      " [-0.02706393]]\n",
      "[[ 1.62796568]\n",
      " [-0.02706334]]\n",
      "[[ 1.62793004]\n",
      " [-0.02706275]]\n",
      "[[ 1.6278944 ]\n",
      " [-0.02706215]]\n",
      "[[ 1.62785876]\n",
      " [-0.02706156]]\n",
      "[[ 1.62782313]\n",
      " [-0.02706097]]\n",
      "[[ 1.62778749]\n",
      " [-0.02706038]]\n",
      "[[ 1.62775186]\n",
      " [-0.02705978]]\n",
      "[[ 1.62771622]\n",
      " [-0.02705919]]\n",
      "[[ 1.62768059]\n",
      " [-0.0270586 ]]\n",
      "[[ 1.62764496]\n",
      " [-0.02705801]]\n",
      "[[ 1.62760933]\n",
      " [-0.02705741]]\n",
      "[[ 1.6275737 ]\n",
      " [-0.02705682]]\n",
      "[[ 1.62753807]\n",
      " [-0.02705623]]\n",
      "[[ 1.62750244]\n",
      " [-0.02705564]]\n",
      "[[ 1.62746681]\n",
      " [-0.02705505]]\n",
      "[[ 1.62743118]\n",
      " [-0.02705445]]\n",
      "[[ 1.62739555]\n",
      " [-0.02705386]]\n",
      "[[ 1.62735993]\n",
      " [-0.02705327]]\n",
      "[[ 1.6273243 ]\n",
      " [-0.02705268]]\n",
      "[[ 1.62728868]\n",
      " [-0.02705208]]\n",
      "[[ 1.62725305]\n",
      " [-0.02705149]]\n",
      "[[ 1.62721743]\n",
      " [-0.0270509 ]]\n",
      "[[ 1.62718181]\n",
      " [-0.02705031]]\n",
      "[[ 1.62714619]\n",
      " [-0.02704972]]\n",
      "[[ 1.62711057]\n",
      " [-0.02704912]]\n",
      "[[ 1.62707495]\n",
      " [-0.02704853]]\n",
      "[[ 1.62703933]\n",
      " [-0.02704794]]\n",
      "[[ 1.62700371]\n",
      " [-0.02704735]]\n",
      "[[ 1.62696809]\n",
      " [-0.02704675]]\n",
      "[[ 1.62693247]\n",
      " [-0.02704616]]\n",
      "[[ 1.62689686]\n",
      " [-0.02704557]]\n",
      "[[ 1.62686124]\n",
      " [-0.02704498]]\n",
      "[[ 1.62682563]\n",
      " [-0.02704439]]\n",
      "[[ 1.62679002]\n",
      " [-0.02704379]]\n",
      "[[ 1.6267544]\n",
      " [-0.0270432]]\n"
     ]
    }
   ],
   "source": [
    "# Perform gradient descent\n",
    "#np.seterr(all='warn')\n",
    "#with np.errstate(square='ignore'):\n",
    "optimal_weights, losses = gradient_descent(X, y)"
   ]
  },
  {
   "cell_type": "code",
   "execution_count": 26,
   "metadata": {},
   "outputs": [
    {
     "name": "stdout",
     "output_type": "stream",
     "text": [
      "Mean squared error: 50.56491357286374\n"
     ]
    }
   ],
   "source": [
    "# DO NOT CHANGE THE FOLLOWING CODE CELLS\n",
    "# Print final loss\n",
    "print(\"Mean squared error:\", losses[-1])"
   ]
  },
  {
   "cell_type": "code",
   "execution_count": 27,
   "metadata": {},
   "outputs": [
    {
     "data": {
      "image/png": "[encoded data removed]",
      "text/plain": [
       "<Figure size 432x288 with 1 Axes>"
      ]
     },
     "metadata": {
      "needs_background": "light"
     },
     "output_type": "display_data"
    }
   ],
   "source": [
    "# Plot the loss curve\n",
    "plt.plot([i for i in range(len(losses))], losses)\n",
    "plt.title(\"Loss curve\")\n",
    "plt.xlabel(\"Iteration num\")\n",
    "plt.ylabel(\"Loss\")\n",
    "plt.show()"
   ]
  },
  {
   "cell_type": "code",
   "execution_count": 30,
   "metadata": {},
   "outputs": [],
   "source": [
    "# Make predictions using trained weights\n",
    "y_pred = predict(X, optimal_weights)"
   ]
  },
  {
   "cell_type": "code",
   "execution_count": 31,
   "metadata": {},
   "outputs": [
    {
     "data": {
      "image/png": "[encoded data removed]",
      "text/plain": [
       "<Figure size 432x288 with 1 Axes>"
      ]
     },
     "metadata": {
      "needs_background": "light"
     },
     "output_type": "display_data"
    }
   ],
   "source": [
    "# Visualize the results by plotting it\n",
    "plt.scatter(X[:,1], y, c='r', label='Actual scores')\n",
    "plt.plot(X[:,1], y_pred, c='g', label='Fitted line | predictions')\n",
    "plt.legend()\n",
    "plt.title(\"Linear regression fitted line\")\n",
    "plt.xlabel(\"Second year grades\")\n",
    "plt.ylabel(\"Third year grades\")\n",
    "plt.show()"
   ]
  }
 ],
 "metadata": {
  "kernelspec": {
   "display_name": "Python 3",
   "language": "python",
   "name": "python3"
  },
  "language_info": {
   "codemirror_mode": {
    "name": "ipython",
    "version": 3
   },
   "file_extension": ".py",
   "mimetype": "text/x-python",
   "name": "python",
   "nbconvert_exporter": "python",
   "pygments_lexer": "ipython3",
   "version": "3.7.4"
  },
  "toc": {
   "base_numbering": 1,
   "nav_menu": {},
   "number_sections": true,
   "sideBar": true,
   "skip_h1_title": false,
   "title_cell": "Table of Contents",
   "title_sidebar": "Contents",
   "toc_cell": false,
   "toc_position": {},
   "toc_section_display": true,
   "toc_window_display": false
  }
 },
 "nbformat": 4,
 "nbformat_minor": 4
}
